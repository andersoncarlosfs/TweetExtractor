{
 "cells": [
  {
   "cell_type": "markdown",
   "metadata": {},
   "source": [
    "# Twitter Extractor"
   ]
  },
  {
   "cell_type": "markdown",
   "metadata": {},
   "source": [
    "## Introduction"
   ]
  },
  {
   "cell_type": "markdown",
   "metadata": {},
   "source": [
    "### User Story: "
   ]
  },
  {
   "cell_type": "markdown",
   "metadata": {},
   "source": [
    "### Goals"
   ]
  },
  {
   "cell_type": "markdown",
   "metadata": {},
   "source": [
    "## Requirements"
   ]
  },
  {
   "cell_type": "markdown",
   "metadata": {},
   "source": [
    "### Imports"
   ]
  },
  {
   "cell_type": "markdown",
   "metadata": {},
   "source": [
    "#### Standard"
   ]
  },
  {
   "cell_type": "code",
   "execution_count": 1,
   "metadata": {},
   "outputs": [],
   "source": [
    "import time"
   ]
  },
  {
   "cell_type": "markdown",
   "metadata": {},
   "source": [
    "#### Third-parties"
   ]
  },
  {
   "cell_type": "markdown",
   "metadata": {},
   "source": [
    "- [Python Twitter Tools](http://mike.verdone.ca/twitter/)"
   ]
  },
  {
   "cell_type": "code",
   "execution_count": 2,
   "metadata": {},
   "outputs": [],
   "source": [
    "from twitter import *"
   ]
  },
  {
   "cell_type": "markdown",
   "metadata": {},
   "source": [
    "## Arguments"
   ]
  },
  {
   "cell_type": "code",
   "execution_count": 3,
   "metadata": {},
   "outputs": [],
   "source": [
    "accounts = ['VilledeVanves']"
   ]
  },
  {
   "cell_type": "markdown",
   "metadata": {},
   "source": [
    "## Parameters"
   ]
  },
  {
   "cell_type": "code",
   "execution_count": 4,
   "metadata": {},
   "outputs": [],
   "source": [
    "consumer_key = ''\n",
    "consumer_secret = ''\n",
    "access_token = ''\n",
    "access_token_secret = ''"
   ]
  },
  {
   "cell_type": "markdown",
   "metadata": {},
   "source": [
    "## Classes"
   ]
  },
  {
   "cell_type": "markdown",
   "metadata": {},
   "source": [
    "## Methods"
   ]
  },
  {
   "cell_type": "markdown",
   "metadata": {},
   "source": [
    "## Program"
   ]
  },
  {
   "cell_type": "code",
   "execution_count": 5,
   "metadata": {},
   "outputs": [],
   "source": [
    "statistics = {\n",
    "    'time': {\n",
    "        'start': None,\n",
    "        'end': None\n",
    "    },\n",
    "    'input': {\n",
    "        'accounts': len(accounts)            \n",
    "    },\n",
    "    'ouput': {\n",
    "        'documents': {\n",
    "            'positive': 0,\n",
    "            'negative': 0,\n",
    "            'uncertain': 0\n",
    "        }\n",
    "    }                    \n",
    "}\n",
    "\n",
    "twitter = Twitter(auth = OAuth(access_token, access_token_secret, consumer_key, consumer_secret), retry = True)\n",
    "\n",
    "for a in accounts:\n",
    "         \n",
    "    arguments = dict(screen_name = a)\n",
    "\n",
    "    while True:        \n",
    "        \n",
    "        try:\n",
    "            \n",
    "            previous = statistics['ouput']['documents']['positive']\n",
    "            \n",
    "            tweets = twitter.statuses.user_timeline(**arguments)                 \n",
    "            \n",
    "            for tweet in tweets:\n",
    "\n",
    "                if tweet['id'] == arguments.get('max_id', None):\n",
    "                    continue\n",
    "\n",
    "                if tweet.get('in_reply_to_status_id'):\n",
    "                    pass\n",
    "\n",
    "                '''\n",
    "                    Persisting the Tweets\n",
    "                '''\n",
    "                with open(str(statistics['ouput']['documents']['positive']) + '.txt', 'w') as f:            \n",
    "                            f.write('text: ' + tweet['text'].encode('utf-8'))\n",
    "                            if tweet['created_at']:\n",
    "                                f.write('created_at: ' + tweet['created_at'])\n",
    "                            if tweet['coordinates']:\n",
    "                                f.write('coordinates: ' + tweet['coordinates'])\n",
    "\n",
    "                arguments['max_id'] = tweet['id']\n",
    "                \n",
    "                '''\n",
    "                    Updating statistics\n",
    "                '''\n",
    "                statistics['ouput']['documents']['positive'] += 1       \n",
    "                \n",
    "            if previous ==  statistics['ouput']['documents']['positive']:\n",
    "                break\n",
    "                                                             \n",
    "        except TwitterError as e:       \n",
    "            print(type(e))   \n",
    "            print(e.args)\n",
    "            print(e)"
   ]
  },
  {
   "cell_type": "markdown",
   "metadata": {},
   "source": [
    "## Evaluation"
   ]
  },
  {
   "cell_type": "markdown",
   "metadata": {},
   "source": [
    "## Lessons learned"
   ]
  },
  {
   "cell_type": "markdown",
   "metadata": {},
   "source": [
    "## References"
   ]
  },
  {
   "cell_type": "markdown",
   "metadata": {},
   "source": [
    "- [Logger](https://github.com/sixohsix/twitter/blob/605bea8613dd64d62e935253105bc2bb565d5296/twitter/logger.py)\n",
    "    "
   ]
  },
  {
   "cell_type": "code",
   "execution_count": null,
   "metadata": {},
   "outputs": [],
   "source": []
  }
 ],
 "metadata": {
  "kernelspec": {
   "display_name": "Python 2",
   "language": "python",
   "name": "python2"
  },
  "language_info": {
   "codemirror_mode": {
    "name": "ipython",
    "version": 2
   },
   "file_extension": ".py",
   "mimetype": "text/x-python",
   "name": "python",
   "nbconvert_exporter": "python",
   "pygments_lexer": "ipython2",
   "version": "2.7.15rc1"
  }
 },
 "nbformat": 4,
 "nbformat_minor": 2
}
